{
 "cells": [
  {
   "cell_type": "markdown",
   "id": "719dc9a3",
   "metadata": {},
   "source": [
    "# Q.1  What is a variable in Python Programming Language and explain the rules to declare a variable.\n"
   ]
  },
  {
   "cell_type": "markdown",
   "id": "94e55504",
   "metadata": {},
   "source": [
    "Solution:- A variable is a named location in memory that is used to store data. It acts as a container for storing values that can be accessed and manipulated in code.\n",
    "\n",
    "Rules to declare the variables: 1. Variable name must start with character or underscore (). 2. Variable can't start with numbers. 3. Variable name can use alpha-numeric values. 4. Variable must not contain python keywords. 5. Variable names are case-sensitive. 6. Variable name cannot use spaces, use underscore ()."
   ]
  },
  {
   "cell_type": "markdown",
   "id": "d374be74",
   "metadata": {},
   "source": [
    "# Q2.  Write a Python Program to generate and prints a list of numbers from 1 to 10"
   ]
  },
  {
   "cell_type": "code",
   "execution_count": 1,
   "id": "887c9752",
   "metadata": {
    "scrolled": true
   },
   "outputs": [
    {
     "name": "stdout",
     "output_type": "stream",
     "text": [
      "1\n",
      "2\n",
      "3\n",
      "4\n",
      "5\n",
      "6\n",
      "7\n",
      "8\n",
      "9\n",
      "10\n"
     ]
    }
   ],
   "source": [
    "numbers = []\n",
    "\n",
    "for i in range(1, 11):\n",
    "    numbers.append(i) #appending the list with elements\n",
    "\n",
    "for number in numbers:\n",
    "    print(number) # Print the list of numbers"
   ]
  },
  {
   "cell_type": "markdown",
   "id": "b6ab0c7b",
   "metadata": {},
   "source": [
    "# Q3. Write a Python Program to sum all the numbers in a list.\n"
   ]
  },
  {
   "cell_type": "code",
   "execution_count": 5,
   "id": "4e6fab51",
   "metadata": {},
   "outputs": [
    {
     "name": "stdout",
     "output_type": "stream",
     "text": [
      "Sum of numbers: 58\n"
     ]
    }
   ],
   "source": [
    "num = [22, 5, 7, 2, 22]\n",
    "\n",
    "sum_of_num = 0\n",
    "\n",
    "for x in num:\n",
    "    sum_of_num += x\n",
    "\n",
    "# Print the sum of the numbers\n",
    "print(\"Sum of numbers:\", sum_of_num)"
   ]
  },
  {
   "cell_type": "markdown",
   "id": "7a1531aa",
   "metadata": {},
   "source": [
    "# Q4.  Write a Python Program to multiply all the numbers in a list.\n"
   ]
  },
  {
   "cell_type": "code",
   "execution_count": 7,
   "id": "1eace277",
   "metadata": {},
   "outputs": [
    {
     "name": "stdout",
     "output_type": "stream",
     "text": [
      "Multiplication result: 728640.0\n"
     ]
    }
   ],
   "source": [
    "numbers = [22,23,24,2,12,2.5]\n",
    "\n",
    "# Initialize a variable to store the result\n",
    "result = 1\n",
    "\n",
    "# Iterate over each number in the list\n",
    "for number in numbers:\n",
    "    # Multiply the current number with the result\n",
    "    result *= number\n",
    "\n",
    "# Print the final result\n",
    "print(\"Multiplication result:\", result)"
   ]
  },
  {
   "cell_type": "code",
   "execution_count": null,
   "id": "d10de7c8",
   "metadata": {},
   "outputs": [],
   "source": []
  }
 ],
 "metadata": {
  "kernelspec": {
   "display_name": "Python 3 (ipykernel)",
   "language": "python",
   "name": "python3"
  },
  "language_info": {
   "codemirror_mode": {
    "name": "ipython",
    "version": 3
   },
   "file_extension": ".py",
   "mimetype": "text/x-python",
   "name": "python",
   "nbconvert_exporter": "python",
   "pygments_lexer": "ipython3",
   "version": "3.9.12"
  }
 },
 "nbformat": 4,
 "nbformat_minor": 5
}
